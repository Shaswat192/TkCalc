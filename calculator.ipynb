{
 "cells": [
  {
   "cell_type": "code",
   "execution_count": null,
   "id": "75e1dc9f-dabd-4eed-8bf8-d883d66de015",
   "metadata": {},
   "outputs": [],
   "source": [
    "import tkinter as tk\n",
    "\n",
    "def on_click(button_text):\n",
    "    if button_text == \"=\":\n",
    "        try:\n",
    "            result = eval(entry_var.get())\n",
    "            entry_var.set(result)\n",
    "        except Exception:\n",
    "            entry_var.set(\"Error\")\n",
    "    elif button_text == \"C\":\n",
    "        entry_var.set(\"\")\n",
    "    else:\n",
    "        entry_var.set(entry_var.get() + button_text)\n",
    "\n",
    "# Create main window\n",
    "root = tk.Tk()\n",
    "root.title(\"Simple Calculator\")\n",
    "\n",
    "entry_var = tk.StringVar()\n",
    "entry = tk.Entry(root, textvariable=entry_var, font=(\"Arial\", 18), justify='right', bd=10, relief=tk.GROOVE)\n",
    "entry.grid(row=0, column=0, columnspan=4)\n",
    "\n",
    "# Button layout\n",
    "buttons = [\n",
    "    ('7', '8', '9', '/'),\n",
    "    ('4', '5', '6', '*'),\n",
    "    ('1', '2', '3', '-'),\n",
    "    ('C', '0', '=', '+')\n",
    "]\n",
    "\n",
    "for i, row in enumerate(buttons):\n",
    "    for j, button_text in enumerate(row):\n",
    "        button = tk.Button(root, text=button_text, font=(\"Arial\", 18), width=5, height=2,\n",
    "                           command=lambda bt=button_text: on_click(bt))\n",
    "        button.grid(row=i+1, column=j)\n",
    "\n",
    "root.mainloop()\n"
   ]
  },
  {
   "cell_type": "code",
   "execution_count": null,
   "id": "1bda0686-7ada-4534-86e1-384edfee1faa",
   "metadata": {},
   "outputs": [],
   "source": []
  },
  {
   "cell_type": "code",
   "execution_count": null,
   "id": "c9c6dc5f-a8a8-497d-8dfa-bab35e49446d",
   "metadata": {},
   "outputs": [],
   "source": []
  }
 ],
 "metadata": {
  "kernelspec": {
   "display_name": "Python 3 (ipykernel)",
   "language": "python",
   "name": "python3"
  },
  "language_info": {
   "codemirror_mode": {
    "name": "ipython",
    "version": 3
   },
   "file_extension": ".py",
   "mimetype": "text/x-python",
   "name": "python",
   "nbconvert_exporter": "python",
   "pygments_lexer": "ipython3",
   "version": "3.12.4"
  }
 },
 "nbformat": 4,
 "nbformat_minor": 5
}
